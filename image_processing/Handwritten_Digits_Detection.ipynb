{
 "cells": [
  {
   "cell_type": "markdown",
   "metadata": {
    "id": "GWPn4gvKc8jh"
   },
   "source": [
    "# Handwritten Digits Detection\n",
    "---\n",
    "Marco Sanguineti, November 2021"
   ]
  },
  {
   "cell_type": "code",
   "execution_count": 1,
   "metadata": {
    "id": "2f-x1K6huR5K"
   },
   "outputs": [],
   "source": [
    "import tensorflow as tf\n",
    "import matplotlib.pyplot as plt\n",
    "import numpy as np"
   ]
  },
  {
   "cell_type": "code",
   "execution_count": 2,
   "metadata": {
    "colab": {
     "base_uri": "https://localhost:8080/"
    },
    "id": "WyYwQAtQdS0J",
    "outputId": "bf3d5b28-b638-4752-9c7c-0a3bad64488a"
   },
   "outputs": [
    {
     "name": "stdout",
     "output_type": "stream",
     "text": [
      "2.6.0\n"
     ]
    }
   ],
   "source": [
    "print(tf.__version__)"
   ]
  },
  {
   "cell_type": "code",
   "execution_count": 3,
   "metadata": {
    "colab": {
     "base_uri": "https://localhost:8080/"
    },
    "id": "2KJXmmpmdYRX",
    "outputId": "1cff2fe0-0b7b-4640-d808-5ab0a6c793b6"
   },
   "outputs": [
    {
     "name": "stdout",
     "output_type": "stream",
     "text": [
      "Num GPUs Available:  1\n"
     ]
    }
   ],
   "source": [
    "print(\"Num GPUs Available: \", len(tf.config.list_physical_devices('GPU')))"
   ]
  },
  {
   "cell_type": "code",
   "execution_count": 4,
   "metadata": {
    "id": "c7w6QN9CjgPU"
   },
   "outputs": [],
   "source": [
    "gpus = tf.config.experimental.list_physical_devices('GPU')\n",
    "for gpu in gpus:\n",
    "  tf.config.experimental.set_memory_growth(gpu, True)"
   ]
  },
  {
   "cell_type": "code",
   "execution_count": 5,
   "metadata": {
    "colab": {
     "base_uri": "https://localhost:8080/"
    },
    "id": "XHTbMOX1dekW",
    "outputId": "07bafd6d-359a-44c0-99d9-5d83805b9238"
   },
   "outputs": [
    {
     "name": "stdout",
     "output_type": "stream",
     "text": [
      "zsh:1: command not found: nvidia-smi\n"
     ]
    }
   ],
   "source": [
    "try:\n",
    "  !nvidia-smi\n",
    "except Exception as e:\n",
    "  print(e)"
   ]
  },
  {
   "cell_type": "code",
   "execution_count": 6,
   "metadata": {
    "id": "wvWkyhUpuabu"
   },
   "outputs": [],
   "source": [
    "mnist = tf.keras.datasets.mnist\n",
    "(x_train, y_train), (x_test, y_test) = mnist.load_data()"
   ]
  },
  {
   "cell_type": "code",
   "execution_count": 7,
   "metadata": {
    "colab": {
     "base_uri": "https://localhost:8080/"
    },
    "id": "G5Py4srIecgO",
    "outputId": "4ef70fff-0034-4e8d-9507-32037199a4b0"
   },
   "outputs": [
    {
     "data": {
      "text/plain": [
       "(28, 28)"
      ]
     },
     "execution_count": 7,
     "metadata": {},
     "output_type": "execute_result"
    }
   ],
   "source": [
    "x_train[0].shape"
   ]
  },
  {
   "cell_type": "code",
   "execution_count": 8,
   "metadata": {
    "colab": {
     "base_uri": "https://localhost:8080/",
     "height": 593
    },
    "id": "LPHizP7tuaWZ",
    "outputId": "be33eea9-9c6d-4942-e047-4d7091fabcc2"
   },
   "outputs": [
    {
     "data": {
      "image/png": "[encoded data removed]",
      "text/plain": [
       "<Figure size 720x720 with 9 Axes>"
      ]
     },
     "metadata": {
      "needs_background": "light"
     },
     "output_type": "display_data"
    }
   ],
   "source": [
    "fig, ax = plt.subplots(nrows=3, ncols=3, figsize=(10, 10))\n",
    "for i in range(3):\n",
    "  for j in range(3):\n",
    "    ax[i, j].imshow(x_train[i + j], cmap=\"gray\")\n",
    "\n",
    "plt.show()"
   ]
  },
  {
   "cell_type": "code",
   "execution_count": 9,
   "metadata": {
    "id": "GnyIwlI0uaUF"
   },
   "outputs": [],
   "source": [
    "x_train = tf.keras.utils.normalize(x_train, axis=1)\n",
    "x_test = tf.keras.utils.normalize(x_test, axis=1)"
   ]
  },
  {
   "cell_type": "code",
   "execution_count": 10,
   "metadata": {
    "colab": {
     "base_uri": "https://localhost:8080/"
    },
    "id": "nWcIijTfuaQ6",
    "outputId": "17be059f-3702-4093-9952-9095d8719507"
   },
   "outputs": [
    {
     "name": "stdout",
     "output_type": "stream",
     "text": [
      "Metal device set to: Apple M1\n",
      "Model: \"model\"\n",
      "_________________________________________________________________\n",
      "Layer (type)                 Output Shape              Param #   \n",
      "=================================================================\n",
      "input_1 (InputLayer)         [(None, 28, 28)]          0         \n",
      "_________________________________________________________________\n",
      "lambda (Lambda)              (None, 28, 28, 1)         0         \n",
      "_________________________________________________________________\n",
      "conv2d (Conv2D)              (None, 26, 26, 16)        160       \n",
      "_________________________________________________________________\n",
      "max_pooling2d (MaxPooling2D) (None, 13, 13, 16)        0         \n",
      "_________________________________________________________________\n",
      "conv2d_1 (Conv2D)            (None, 11, 11, 32)        4640      \n",
      "_________________________________________________________________\n",
      "max_pooling2d_1 (MaxPooling2 (None, 5, 5, 32)          0         \n",
      "_________________________________________________________________\n",
      "flatten (Flatten)            (None, 800)               0         \n",
      "_________________________________________________________________\n",
      "dense (Dense)                (None, 10)                8010      \n",
      "=================================================================\n",
      "Total params: 12,810\n",
      "Trainable params: 12,810\n",
      "Non-trainable params: 0\n",
      "_________________________________________________________________\n"
     ]
    },
    {
     "name": "stderr",
     "output_type": "stream",
     "text": [
      "2021-11-06 10:51:38.271596: I tensorflow/core/common_runtime/pluggable_device/pluggable_device_factory.cc:305] Could not identify NUMA node of platform GPU ID 0, defaulting to 0. Your kernel may not have been built with NUMA support.\n",
      "2021-11-06 10:51:38.271711: I tensorflow/core/common_runtime/pluggable_device/pluggable_device_factory.cc:271] Created TensorFlow device (/job:localhost/replica:0/task:0/device:GPU:0 with 0 MB memory) -> physical PluggableDevice (device: 0, name: METAL, pci bus id: <undefined>)\n"
     ]
    }
   ],
   "source": [
    "images = tf.keras.layers.Input(shape=x_train[0].shape)\n",
    "x = tf.keras.layers.Lambda(lambda x: tf.expand_dims(x, axis=-1))(images)\n",
    "x = tf.keras.layers.Conv2D(16, (3, 3))(x)\n",
    "x = tf.keras.layers.MaxPooling2D()(x)\n",
    "x = tf.keras.layers.Conv2D(32, (3, 3))(x)\n",
    "x = tf.keras.layers.MaxPooling2D()(x)\n",
    "x = tf.keras.layers.Flatten()(x)\n",
    "x = tf.keras.layers.Dense(10, activation=tf.keras.activations.softmax)(x)\n",
    "\n",
    "model = tf.keras.models.Model(images, x)\n",
    "\n",
    "model.summary()"
   ]
  },
  {
   "cell_type": "code",
   "execution_count": 11,
   "metadata": {
    "id": "UnpPWukj9VPw"
   },
   "outputs": [],
   "source": [
    "model.compile(optimizer=tf.keras.optimizers.Adam(learning_rate=0.001), loss=\"sparse_categorical_crossentropy\", metrics=[\"accuracy\"])"
   ]
  },
  {
   "cell_type": "code",
   "execution_count": 12,
   "metadata": {
    "colab": {
     "base_uri": "https://localhost:8080/"
    },
    "id": "uq_w2230-B4f",
    "outputId": "3d37bcdc-1dc7-44f3-f097-a76044396d92"
   },
   "outputs": [
    {
     "name": "stderr",
     "output_type": "stream",
     "text": [
      "2021-11-06 10:51:38.618378: I tensorflow/compiler/mlir/mlir_graph_optimization_pass.cc:185] None of the MLIR Optimization Passes are enabled (registered 2)\n",
      "2021-11-06 10:51:38.618541: W tensorflow/core/platform/profile_utils/cpu_utils.cc:128] Failed to get CPU frequency: 0 Hz\n",
      "2021-11-06 10:51:38.722901: I tensorflow/core/grappler/optimizers/custom_graph_optimizer_registry.cc:112] Plugin optimizer for device_type GPU is enabled.\n"
     ]
    },
    {
     "name": "stdout",
     "output_type": "stream",
     "text": [
      "Epoch 1/50\n",
      "235/235 [==============================] - 3s 12ms/step - loss: 0.6148 - accuracy: 0.8390\n",
      "Epoch 2/50\n",
      "235/235 [==============================] - 2s 11ms/step - loss: 0.1812 - accuracy: 0.9479\n",
      "Epoch 3/50\n",
      "235/235 [==============================] - 3s 11ms/step - loss: 0.1262 - accuracy: 0.9637\n",
      "Epoch 4/50\n",
      "235/235 [==============================] - 3s 11ms/step - loss: 0.0995 - accuracy: 0.9709\n",
      "Epoch 5/50\n",
      "235/235 [==============================] - 2s 11ms/step - loss: 0.0852 - accuracy: 0.9751\n",
      "Epoch 6/50\n",
      "235/235 [==============================] - 3s 11ms/step - loss: 0.0750 - accuracy: 0.9776\n",
      "Epoch 7/50\n",
      "235/235 [==============================] - 3s 11ms/step - loss: 0.0685 - accuracy: 0.9801\n",
      "Epoch 8/50\n",
      "235/235 [==============================] - 3s 11ms/step - loss: 0.0626 - accuracy: 0.9817\n",
      "Epoch 9/50\n",
      "235/235 [==============================] - 2s 11ms/step - loss: 0.0581 - accuracy: 0.9832\n",
      "Epoch 10/50\n",
      "235/235 [==============================] - 2s 11ms/step - loss: 0.0549 - accuracy: 0.9838\n",
      "Epoch 11/50\n",
      "235/235 [==============================] - 3s 11ms/step - loss: 0.0517 - accuracy: 0.9847\n",
      "Epoch 12/50\n",
      "235/235 [==============================] - 3s 11ms/step - loss: 0.0492 - accuracy: 0.9853\n",
      "Epoch 13/50\n",
      "235/235 [==============================] - 2s 11ms/step - loss: 0.0466 - accuracy: 0.9862\n",
      "Epoch 14/50\n",
      "235/235 [==============================] - 2s 11ms/step - loss: 0.0440 - accuracy: 0.9869\n",
      "Epoch 15/50\n",
      "235/235 [==============================] - 2s 11ms/step - loss: 0.0426 - accuracy: 0.9869\n",
      "Epoch 16/50\n",
      "235/235 [==============================] - 2s 11ms/step - loss: 0.0402 - accuracy: 0.9875\n",
      "Epoch 17/50\n",
      "235/235 [==============================] - 2s 11ms/step - loss: 0.0387 - accuracy: 0.9883\n",
      "Epoch 18/50\n",
      "235/235 [==============================] - 2s 11ms/step - loss: 0.0369 - accuracy: 0.9889\n",
      "Epoch 19/50\n",
      "235/235 [==============================] - 2s 11ms/step - loss: 0.0353 - accuracy: 0.9900\n",
      "Epoch 20/50\n",
      "235/235 [==============================] - 3s 11ms/step - loss: 0.0334 - accuracy: 0.9899\n",
      "Epoch 21/50\n",
      "235/235 [==============================] - 3s 11ms/step - loss: 0.0324 - accuracy: 0.9905\n",
      "Epoch 22/50\n",
      "235/235 [==============================] - 3s 11ms/step - loss: 0.0316 - accuracy: 0.9905\n",
      "Epoch 23/50\n",
      "235/235 [==============================] - 2s 11ms/step - loss: 0.0298 - accuracy: 0.9911\n",
      "Epoch 24/50\n",
      "235/235 [==============================] - 2s 11ms/step - loss: 0.0292 - accuracy: 0.9912\n",
      "Epoch 25/50\n",
      "235/235 [==============================] - 3s 11ms/step - loss: 0.0276 - accuracy: 0.9917\n",
      "Epoch 26/50\n",
      "235/235 [==============================] - 3s 11ms/step - loss: 0.0261 - accuracy: 0.9923\n",
      "Epoch 27/50\n",
      "235/235 [==============================] - 3s 11ms/step - loss: 0.0258 - accuracy: 0.9919\n",
      "Epoch 28/50\n",
      "235/235 [==============================] - 2s 11ms/step - loss: 0.0246 - accuracy: 0.9925\n",
      "Epoch 29/50\n",
      "235/235 [==============================] - 2s 11ms/step - loss: 0.0239 - accuracy: 0.9929\n",
      "Epoch 30/50\n",
      "235/235 [==============================] - 2s 11ms/step - loss: 0.0221 - accuracy: 0.9934\n",
      "Epoch 31/50\n",
      "235/235 [==============================] - 3s 11ms/step - loss: 0.0218 - accuracy: 0.9934\n",
      "Epoch 32/50\n",
      "235/235 [==============================] - 2s 11ms/step - loss: 0.0205 - accuracy: 0.9938\n",
      "Epoch 33/50\n",
      "235/235 [==============================] - 2s 11ms/step - loss: 0.0206 - accuracy: 0.9936\n",
      "Epoch 34/50\n",
      "235/235 [==============================] - 3s 11ms/step - loss: 0.0199 - accuracy: 0.9938\n",
      "Epoch 35/50\n",
      "235/235 [==============================] - 3s 11ms/step - loss: 0.0184 - accuracy: 0.9944\n",
      "Epoch 36/50\n",
      "235/235 [==============================] - 3s 11ms/step - loss: 0.0171 - accuracy: 0.9948\n",
      "Epoch 37/50\n",
      "235/235 [==============================] - 2s 11ms/step - loss: 0.0177 - accuracy: 0.9942\n",
      "Epoch 38/50\n",
      "235/235 [==============================] - 2s 11ms/step - loss: 0.0155 - accuracy: 0.9953\n",
      "Epoch 39/50\n",
      "235/235 [==============================] - 2s 11ms/step - loss: 0.0152 - accuracy: 0.9958\n",
      "Epoch 40/50\n",
      "235/235 [==============================] - 2s 11ms/step - loss: 0.0146 - accuracy: 0.9954\n",
      "Epoch 41/50\n",
      "235/235 [==============================] - 2s 11ms/step - loss: 0.0146 - accuracy: 0.9955\n",
      "Epoch 42/50\n",
      "235/235 [==============================] - 2s 11ms/step - loss: 0.0139 - accuracy: 0.9959\n",
      "Epoch 43/50\n",
      "235/235 [==============================] - 2s 11ms/step - loss: 0.0130 - accuracy: 0.9961\n",
      "Epoch 44/50\n",
      "235/235 [==============================] - 2s 11ms/step - loss: 0.0127 - accuracy: 0.9961\n",
      "Epoch 45/50\n",
      "235/235 [==============================] - 3s 11ms/step - loss: 0.0121 - accuracy: 0.9964\n",
      "Epoch 46/50\n",
      "235/235 [==============================] - 2s 11ms/step - loss: 0.0113 - accuracy: 0.9969\n",
      "Epoch 47/50\n",
      "235/235 [==============================] - 2s 11ms/step - loss: 0.0106 - accuracy: 0.9969\n",
      "Epoch 48/50\n",
      "235/235 [==============================] - 3s 11ms/step - loss: 0.0099 - accuracy: 0.9973\n",
      "Epoch 49/50\n",
      "235/235 [==============================] - 3s 11ms/step - loss: 0.0096 - accuracy: 0.9972\n",
      "Epoch 50/50\n",
      "235/235 [==============================] - 3s 11ms/step - loss: 0.0101 - accuracy: 0.9970\n",
      "\n",
      "--- 126.23901295661926 seconds ---\n"
     ]
    }
   ],
   "source": [
    "import time\n",
    "\n",
    "start_time = time.time()\n",
    "\n",
    "history = model.fit(x=x_train,\n",
    "                    y=y_train,\n",
    "                    epochs=50,\n",
    "                    batch_size=256)\n",
    "\n",
    "print(\"\\n--- %s seconds ---\" % (time.time() - start_time))"
   ]
  },
  {
   "cell_type": "code",
   "execution_count": 13,
   "metadata": {
    "colab": {
     "base_uri": "https://localhost:8080/"
    },
    "id": "Lunoq_65-eSx",
    "outputId": "4f00896c-fa4c-4ac9-8404-675692892be4"
   },
   "outputs": [
    {
     "name": "stdout",
     "output_type": "stream",
     "text": [
      " 48/313 [===>..........................] - ETA: 0s - loss: 0.0948 - accuracy: 0.9798"
     ]
    },
    {
     "name": "stderr",
     "output_type": "stream",
     "text": [
      "2021-11-06 10:53:44.641558: I tensorflow/core/grappler/optimizers/custom_graph_optimizer_registry.cc:112] Plugin optimizer for device_type GPU is enabled.\n"
     ]
    },
    {
     "name": "stdout",
     "output_type": "stream",
     "text": [
      "313/313 [==============================] - 1s 3ms/step - loss: 0.0768 - accuracy: 0.9821\n",
      "\n",
      "Test accuracy: 0.9821000695228577\n"
     ]
    }
   ],
   "source": [
    "test_loss, test_acc = model.evaluate(x=x_test, y=y_test)\n",
    "\n",
    "print(f'\\nTest accuracy: {test_acc}')"
   ]
  },
  {
   "cell_type": "code",
   "execution_count": 14,
   "metadata": {
    "id": "lBdM3DSuHCGc"
   },
   "outputs": [
    {
     "name": "stderr",
     "output_type": "stream",
     "text": [
      "2021-11-06 10:53:45.760826: I tensorflow/core/grappler/optimizers/custom_graph_optimizer_registry.cc:112] Plugin optimizer for device_type GPU is enabled.\n"
     ]
    }
   ],
   "source": [
    "predictions = model.predict([x_test])"
   ]
  },
  {
   "cell_type": "code",
   "execution_count": 15,
   "metadata": {
    "colab": {
     "base_uri": "https://localhost:8080/",
     "height": 607
    },
    "id": "tv_M1yZ7OwXU",
    "outputId": "64db0110-3998-4cca-8e15-6781c2af2d99"
   },
   "outputs": [
    {
     "data": {
      "image/png": "[encoded data removed]",
      "text/plain": [
       "<Figure size 720x720 with 9 Axes>"
      ]
     },
     "metadata": {
      "needs_background": "light"
     },
     "output_type": "display_data"
    }
   ],
   "source": [
    "fig, ax = plt.subplots(nrows=3, ncols=3, figsize=(10, 10))\n",
    "for i in range(3):\n",
    "  for j in range(3):\n",
    "    ax[i, j].imshow(x_test[i + j], cmap=\"gray\")\n",
    "    ax[i, j].set_title(f'True: {y_test[i + j]} - Predicted: {np.argmax(predictions[i + j])}')\n",
    "\n",
    "plt.show()"
   ]
  },
  {
   "cell_type": "code",
   "execution_count": 16,
   "metadata": {
    "colab": {
     "base_uri": "https://localhost:8080/"
    },
    "id": "Zly_TDQ_h8_q",
    "outputId": "8fbba76a-1f7b-4ed8-810c-3dedba81be96"
   },
   "outputs": [
    {
     "name": "stdout",
     "output_type": "stream",
     "text": [
      "zsh:1: command not found: nvidia-smi\n"
     ]
    }
   ],
   "source": [
    "try:\n",
    "  !nvidia-smi\n",
    "except Exception as e:\n",
    "  print(e)"
   ]
  }
 ],
 "metadata": {
  "accelerator": "GPU",
  "colab": {
   "name": "Handwritten_Digits_Detection.ipynb",
   "provenance": []
  },
  "kernelspec": {
   "display_name": "Python 3 (ipykernel)",
   "language": "python",
   "name": "python3"
  },
  "language_info": {
   "codemirror_mode": {
    "name": "ipython",
    "version": 3
   },
   "file_extension": ".py",
   "mimetype": "text/x-python",
   "name": "python",
   "nbconvert_exporter": "python",
   "pygments_lexer": "ipython3",
   "version": "3.8.12"
  }
 },
 "nbformat": 4,
 "nbformat_minor": 4
}
